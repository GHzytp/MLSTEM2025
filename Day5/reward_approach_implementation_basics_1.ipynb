{
  "cells": [
    {
      "cell_type": "markdown",
      "metadata": {
        "id": "CdxVaSafaf_C"
      },
      "source": [
        "**On the fly image anlysis in microscopy**\n",
        "\n",
        "* Reward-Driven analysis\n",
        "* Real-time analysis and human in the loop control\n",
        "\n",
        "May, 2025\n",
        "\n",
        "Notebook prepared by **Kamyar Barakati**\n",
        "\n",
        "Nural network developed by Maxim Ziatdinov in AtomAI Python library"
      ]
    },
    {
      "cell_type": "markdown",
      "metadata": {
        "id": "z9i8GjRpg8V0"
      },
      "source": [
        "Install packages"
      ]
    },
    {
      "cell_type": "code",
      "execution_count": null,
      "metadata": {
        "colab": {
          "base_uri": "https://localhost:8080/"
        },
        "id": "vlaCYtc5hBEv",
        "outputId": "055ae3a1-4be6-4710-fd50-15ae113cb28f"
      },
      "outputs": [],
      "source": [
        "import time\n",
        "\n",
        "before = time.time()\n",
        "!pip install git+https://github.com/pycroscopy/atomai\n",
        "\n",
        "! pip install platypus-opt\n",
        "\n",
        "! pip install scikit-optimize scipy numpy\n",
        "\n",
        "after = time.time()\n",
        "print(f\"Time taken: {after - before} seconds\")"
      ]
    },
    {
      "cell_type": "code",
      "execution_count": null,
      "metadata": {
        "id": "129nWvU2HOHd"
      },
      "outputs": [],
      "source": [
        "# !pip install pymoo"
      ]
    },
    {
      "cell_type": "code",
      "execution_count": null,
      "metadata": {
        "id": "7t65waX0Eol7"
      },
      "outputs": [],
      "source": [
        "import sys\n",
        "import importlib.metadata\n",
        "def test_package(package_name):\n",
        "    \"\"\"Test if package exists and returns version or -1\"\"\"\n",
        "    try:\n",
        "        version = importlib.metadata.version(package_name)\n",
        "    except importlib.metadata.PackageNotFoundError:\n",
        "        version = '-1'\n",
        "    return version\n",
        "\n",
        "if test_package('pyTEMlib') < '0.2024.4.0':\n",
        "    print('installing pyTEMlib')\n",
        "    !{sys.executable} -m pip install  --upgrade pyTEMlib -q\n",
        "print('done')"
      ]
    },
    {
      "cell_type": "markdown",
      "metadata": {
        "id": "Zx2VQxpPhRdP"
      },
      "source": [
        "Import libraries"
      ]
    },
    {
      "cell_type": "code",
      "execution_count": null,
      "metadata": {
        "colab": {
          "base_uri": "https://localhost:8080/"
        },
        "id": "e66Lpo5shT1n",
        "outputId": "eeed919b-240a-41cd-8ba5-fbfd7c67d77f"
      },
      "outputs": [],
      "source": [
        "import atomai as aoi\n",
        "# from atomai.transforms import datatransform\n",
        "from platypus import Problem, Real, NSGAII, Solution, Integer\n",
        "from PIL import Image\n",
        "from skimage import feature, io\n",
        "from skimage import filters, img_as_float\n",
        "from sklearn.neighbors import NearestNeighbors\n",
        "import random\n",
        "import math\n",
        "import cv2\n",
        "import time\n",
        "import pickle\n",
        "from scipy.stats import gaussian_kde\n",
        "from matplotlib.ticker import FuncFormatter\n",
        "import plotly.graph_objs as go\n",
        "from sklearn.decomposition import PCA\n",
        "from sklearn.mixture import GaussianMixture\n",
        "\n",
        "import os\n",
        "import numpy as np\n",
        "import matplotlib.pyplot as plt\n",
        "\n",
        "import pyTEMlib\n",
        "import pyTEMlib.file_tools as ft\n",
        "import pyTEMlib.image_tools as it\n",
        "from pyTEMlib.atom_tools import atom_refine\n",
        "from pyTEMlib import graph_tools as gt\n",
        "from pyTEMlib import crystal_tools as ct\n",
        "\n",
        "from skimage.feature import blob_log\n",
        "from scipy.spatial import KDTree\n",
        "from scipy.signal import correlate\n",
        "from scipy.signal import correlate2d\n",
        "from sklearn.cluster import DBSCAN\n",
        "from sklearn.cluster import KMeans\n",
        "\n",
        "from collections import defaultdict, deque\n",
        "\n",
        "from scipy.spatial import Delaunay, Voronoi, ConvexHull, voronoi_plot_2d\n",
        "from scipy.spatial import cKDTree\n",
        "\n",
        "from matplotlib import cm\n",
        "import matplotlib.patches as patches\n",
        "import matplotlib as mpl\n",
        "\n",
        "from IPython.display import clear_output, display\n",
        "import ipywidgets as widgets"
      ]
    },
    {
      "cell_type": "markdown",
      "metadata": {
        "id": "cDnvVxmWhv77"
      },
      "source": [
        "# Upload:\n",
        "\n",
        "- Experiemental graphene data\n",
        "- Experiemental graphene stack of images\n",
        "- DCNN weights from atomai"
      ]
    },
    {
      "cell_type": "markdown",
      "metadata": {
        "id": "hNL7fPUW0BgZ"
      },
      "source": [
        "**Graphene**\n",
        "\n",
        "**SrTiO3**"
      ]
    },
    {
      "cell_type": "code",
      "execution_count": null,
      "metadata": {
        "colab": {
          "base_uri": "https://localhost:8080/"
        },
        "id": "xHj96luhE_AI",
        "outputId": "2719abbd-e34c-460e-e809-dba96c68bfa6"
      },
      "outputs": [],
      "source": [
        "! gdown 12dJWNSdmHcZQkmWzXgH2u4aiJQrjcrNP\n",
        "! gdown 1IecDXMHqFQgvTMluTnsHXqayk0cVmX3x"
      ]
    },
    {
      "cell_type": "code",
      "execution_count": null,
      "metadata": {
        "colab": {
          "base_uri": "https://localhost:8080/"
        },
        "id": "e-NIMRwv0FrR",
        "outputId": "028888ab-9ad4-4e1f-886f-b2c510bd4a9e"
      },
      "outputs": [],
      "source": [
        "path = '/content/'\n",
        "files = os.listdir(path)\n",
        "files = [f for f in files if \"emd\" in f]\n",
        "\n",
        "files.sort()\n",
        "files"
      ]
    },
    {
      "cell_type": "code",
      "execution_count": null,
      "metadata": {
        "id": "xqP32vX647R_"
      },
      "outputs": [],
      "source": [
        "dset = ft.open_file(path + files[0])\n",
        "image = dset['Channel_000']"
      ]
    },
    {
      "cell_type": "code",
      "execution_count": null,
      "metadata": {
        "colab": {
          "base_uri": "https://localhost:8080/",
          "height": 453
        },
        "id": "JH7eI-KX49kD",
        "outputId": "66c68938-a404-48dd-e86a-1a3ca406f7cf"
      },
      "outputs": [],
      "source": [
        "plt.imshow(image[0], cmap='gray')"
      ]
    },
    {
      "cell_type": "code",
      "execution_count": null,
      "metadata": {
        "id": "zZK5cwq24y5i"
      },
      "outputs": [],
      "source": [
        "avg_im = image.sum(axis=0)\n",
        "avg_im.data_type = 'IMAGE'\n",
        "avg_im -= avg_im.min()\n",
        "avg_im /= avg_im.max()"
      ]
    },
    {
      "cell_type": "code",
      "execution_count": null,
      "metadata": {
        "id": "Uqryk45Y4y2-"
      },
      "outputs": [],
      "source": [
        "def make_gauss(size_x, size_y, width=1.0, x0=0.0, y0=0.0, intensity=1.0):\n",
        "    \"\"\"Make a Gaussian shaped probe \"\"\"\n",
        "    size_x = size_x / 2\n",
        "    size_y = size_y / 2\n",
        "    x, y = np.mgrid[-size_x:size_x, -size_y:size_y]\n",
        "    g = np.exp(-((x - x0) ** 2 + (y - y0) ** 2) / 2.0 / width ** 2)\n",
        "    probe = g / g.sum() * intensity\n",
        "    return probe"
      ]
    },
    {
      "cell_type": "code",
      "execution_count": null,
      "metadata": {
        "colab": {
          "base_uri": "https://localhost:8080/",
          "height": 467,
          "referenced_widgets": [
            "3556b1850cf34fa3818c08283c6fad55",
            "e60479596a4c42aa836a6880cfb1639d",
            "7b453278a9354a45aa92a862ef1fe6d7",
            "31372a9eeeeb4071b686f684f479ff86",
            "064a20c5a0ed476e96cb807324914b39",
            "92daff7985aa4ee7992206c8ab91c0c1",
            "c9442892343447b8ad87bb100a9d37e4",
            "f88c76bd1dd844c68fe5f3dcdb07a367",
            "b52684cd9c734629ad9e50b79480edac",
            "d2ee3c1494724002bbde1ede65567e65",
            "02c8c1adfd7e4e0a8972a8b38557d172"
          ]
        },
        "id": "n-7dFzDy5brZ",
        "outputId": "e5d9fdb9-d06d-4b5d-fe3e-1c05fa7fe502"
      },
      "outputs": [],
      "source": [
        "# ------- Input ------\n",
        "atoms_size = 0.08\n",
        "# --------------------\n",
        "\n",
        "# scale = image.x.values[1]\n",
        "\n",
        "scale = avg_im.x.values[1]\n",
        "image = avg_im[0:256, 0:256]\n",
        "\n",
        "image.metadata['experiment']= {'convergence_angle': 30, 'acceleration_voltage': 60000.}\n",
        "gauss_diameter = atoms_size/scale\n",
        "gauss_probe = make_gauss(image.shape[0], image.shape[1], gauss_diameter)\n",
        "lr_dataset = it.decon_lr(image, gauss_probe, verbose=False)\n",
        "\n",
        "fig, ax = plt.subplots(1,2, figsize=(8, 4), sharex=True, sharey=True)\n",
        "ax[0].imshow(image.T)\n",
        "ax[0].set_title('original')\n",
        "ax[1].imshow(lr_dataset.T)\n",
        "ax[1].set_title('LR_decon')\n"
      ]
    },
    {
      "cell_type": "code",
      "execution_count": null,
      "metadata": {
        "colab": {
          "base_uri": "https://localhost:8080/",
          "height": 622
        },
        "id": "56GROQ225kWD",
        "outputId": "359f739b-8b2c-4f38-ca30-5b4fb8e54f3e"
      },
      "outputs": [],
      "source": [
        "# ------- Input ------\n",
        "threshold = 0.01 #usally between 0.01 and 0.9  the smaller the more atoms\n",
        "# ----------------------\n",
        "\n",
        "blobs_m = blob_log(lr_dataset, max_sigma=10, threshold=threshold)\n",
        "\n",
        "blobs_m = pyTEMlib.graph_tools.delete_rim_atoms(blobs_m, lr_dataset.shape, 10)\n",
        "\n",
        "\n",
        "fig, ax = plt.subplots(1, 1,figsize=(8,7), sharex=True, sharey=True)\n",
        "ax.imshow(lr_dataset.T, cmap='gray')\n",
        "ax.scatter(blobs_m[:, 0], blobs_m[:, 1], c='r', s=20, alpha = .5)"
      ]
    },
    {
      "cell_type": "code",
      "execution_count": null,
      "metadata": {
        "colab": {
          "base_uri": "https://localhost:8080/"
        },
        "id": "28M8St2-HEAQ",
        "outputId": "c2367918-79e7-49cc-ede1-fbaaa815965a"
      },
      "outputs": [],
      "source": [
        "print(len(blobs_m))"
      ]
    },
    {
      "cell_type": "markdown",
      "metadata": {
        "id": "3giOQvdlHNM6"
      },
      "source": [
        "Load DCNN model for comparison"
      ]
    },
    {
      "cell_type": "code",
      "execution_count": null,
      "metadata": {
        "colab": {
          "base_uri": "https://localhost:8080/"
        },
        "id": "CxcFSsi9Vsnz",
        "outputId": "7eb29eb2-4f80-4674-aeb0-a031adacdd82"
      },
      "outputs": [],
      "source": [
        "# download data\n",
        "# !gdown \"https://drive.google.com/uc?id=18U8YHZUbSZj0Q1__zup5-ABrjaEZmiPc\"\n",
        "# download model\n",
        "!gdown \"https://drive.google.com/uc?id=18PQs7M_fBp4Lf0JVQlORERmBmYRJ88-M\"\n",
        "# download DCNN weights Graphene\n",
        "!gdown 1SYEhCvo2-Bdv37Od0VZohurlnm3LSWCB\n",
        "#Hexagonal train/test dataset\n",
        "# !wget -O \"Hex_train_test3.npz\" https://www.dropbox.com/s/aldxrawcf88btkc/Hex_train_test3.npz?dl=0"
      ]
    },
    {
      "cell_type": "code",
      "execution_count": null,
      "metadata": {
        "id": "rXSR58z7V2Jd"
      },
      "outputs": [],
      "source": [
        "model = aoi.load_model(\"G_MD.tar\")"
      ]
    },
    {
      "cell_type": "code",
      "execution_count": null,
      "metadata": {
        "id": "lDElsmZ1heXw"
      },
      "outputs": [],
      "source": [
        "exp_img = lr_dataset"
      ]
    },
    {
      "cell_type": "code",
      "execution_count": null,
      "metadata": {
        "colab": {
          "base_uri": "https://localhost:8080/",
          "height": 453
        },
        "id": "3rZ3vtEyhq0C",
        "outputId": "56857eb0-0c54-4001-fa4f-62e4616c90d8"
      },
      "outputs": [],
      "source": [
        "plt.imshow(exp_img, cmap=\"gray\")"
      ]
    },
    {
      "cell_type": "markdown",
      "metadata": {
        "id": "QfTlYwcsiVNI"
      },
      "source": [
        "#RDW test on pre aquired data"
      ]
    },
    {
      "cell_type": "code",
      "execution_count": null,
      "metadata": {
        "id": "mJLp79iZjIp8"
      },
      "outputs": [],
      "source": [
        "def apply_gaussian_smoothing(image, sigma):\n",
        "\n",
        "    # Convert the image to float to prevent data type overflow\n",
        "    image_float = img_as_float(image)\n",
        "\n",
        "    # Apply Gaussian filter\n",
        "    smoothed_image = filters.gaussian(image_float, sigma=sigma)\n",
        "\n",
        "    return smoothed_image"
      ]
    },
    {
      "cell_type": "code",
      "execution_count": null,
      "metadata": {
        "id": "mgGCDS8lj75Y"
      },
      "outputs": [],
      "source": [
        "# min-max normalization:\n",
        "def norm2d(img: np.ndarray) -> np.ndarray:\n",
        "    return (img - np.min(img)) / (np.max(img) - np.min(img))"
      ]
    },
    {
      "cell_type": "markdown",
      "metadata": {
        "id": "uoIt4Z2Jipx5"
      },
      "source": [
        "## DCNN performance"
      ]
    },
    {
      "cell_type": "code",
      "execution_count": null,
      "metadata": {
        "id": "VTCG69cIjblE"
      },
      "outputs": [],
      "source": [
        "test_img = apply_gaussian_smoothing(exp_img, 0)"
      ]
    },
    {
      "cell_type": "code",
      "execution_count": null,
      "metadata": {
        "colab": {
          "base_uri": "https://localhost:8080/"
        },
        "id": "6v01XtpHisdU",
        "outputId": "8eb07b34-3389-4dc2-e4f7-8153c4b5d87a"
      },
      "outputs": [],
      "source": [
        "nn_output, coordinates = model.predict(test_img)"
      ]
    },
    {
      "cell_type": "markdown",
      "metadata": {
        "id": "5taG79uVkW4-"
      },
      "source": [
        "How it worked?"
      ]
    },
    {
      "cell_type": "code",
      "execution_count": null,
      "metadata": {
        "colab": {
          "base_uri": "https://localhost:8080/"
        },
        "id": "f9CE5hGIrPoF",
        "outputId": "9def585e-9a9a-4f3b-c233-cc56c88d05c6"
      },
      "outputs": [],
      "source": [
        "print(len(coordinates[0]))"
      ]
    },
    {
      "cell_type": "markdown",
      "metadata": {
        "id": "3dEczI_uHifJ"
      },
      "source": [
        "Compare:"
      ]
    },
    {
      "cell_type": "code",
      "execution_count": null,
      "metadata": {
        "colab": {
          "base_uri": "https://localhost:8080/"
        },
        "id": "6aAZ3-fqHk-J",
        "outputId": "abd6569a-94bd-4658-fa6f-c240a57bf5cf"
      },
      "outputs": [],
      "source": [
        "print(len(coordinates[0]) - len(blobs_m))"
      ]
    },
    {
      "cell_type": "code",
      "execution_count": null,
      "metadata": {
        "colab": {
          "base_uri": "https://localhost:8080/",
          "height": 754
        },
        "id": "7QZBbmUFj4hi",
        "outputId": "3dab5e61-ffab-4f05-c32a-23ee70b53bb8"
      },
      "outputs": [],
      "source": [
        "x = coordinates[0][:, 1]\n",
        "y = coordinates[0][:, 0]\n",
        "fig, ax = plt.subplots(1, 1, figsize=(8, 8))\n",
        "ax.imshow(test_img, cmap='gist_gray')\n",
        "\n",
        "imglab = ax.scatter(x, y,  marker='o', c=\"r\" , s = 50 ,cmap='coolwarm', edgecolor='k')\n",
        "plt.title('DCNN model prediction' , fontsize = 18, fontweight = \"bold\")\n",
        "ax.set_xticks([])\n",
        "ax.set_yticks([])"
      ]
    },
    {
      "cell_type": "markdown",
      "metadata": {
        "id": "hYZs_SjmlbBP"
      },
      "source": [
        "## RDW performance"
      ]
    },
    {
      "cell_type": "code",
      "execution_count": null,
      "metadata": {
        "id": "uVrcaHthlU3d"
      },
      "outputs": [],
      "source": [
        "def apply_log_one(min_sigma, max_sigma, threshold, overlap):\n",
        "\n",
        "    #img = imgdata_noisy\n",
        "    img = test_img\n",
        "    preprocessed_img = norm2d(np.array(img))\n",
        "    array_3d = preprocessed_img[None, :, :]\n",
        "\n",
        "    num_sigma = 10\n",
        "    window_size = 15\n",
        "\n",
        "    # Initialize arrays for results\n",
        "    coordinates = np.zeros((1, 3))\n",
        "    coms = np.zeros((1, 3))\n",
        "    imstack_grid = np.zeros((1, window_size, window_size, 1))\n",
        "\n",
        "    # Process the preprocessed image\n",
        "    imglist = [0]  # Assuming you're processing a single image in this case\n",
        "    for i in imglist:\n",
        "        img_to_analyze = norm2d(array_3d[i])  # Apply norm2d to the slice from array_3d\n",
        "\n",
        "        # Apply LoG filter to detect atoms using the provided parameters\n",
        "        all_atoms = feature.blob_log(preprocessed_img, min_sigma=min_sigma, max_sigma=max_sigma, num_sigma=num_sigma, threshold=threshold, overlap=overlap)\n",
        "\n",
        "        if len(all_atoms) == 0:\n",
        "            return np.array([]), 0\n",
        "\n",
        "        coordinate = np.full_like(all_atoms, i)\n",
        "        coordinate[:, :-1] = all_atoms[:, :-1]\n",
        "\n",
        "        # Attempt to extract sub-images around detected atoms\n",
        "        try:\n",
        "            imstack, com, frames = aoi.utils.extract_subimages(img_to_analyze, coordinate[:, :-1], window_size)\n",
        "            com = np.array(com)\n",
        "            if com.size == 0:  # Check if the 'com' array is empty\n",
        "                continue  # Skip the rest of the loop if no sub-images were extracted\n",
        "\n",
        "            com_ = np.full((len(com), 3), i)\n",
        "            com_[:, :-1] = com\n",
        "            imstack = (imstack - imstack.min()) / (imstack.max() - imstack.min())  # Normalize sub-images\n",
        "\n",
        "            # Accumulate results\n",
        "            coms = np.concatenate((coms, com_), axis=0)\n",
        "            coordinates = np.concatenate((coordinates, coordinate), axis=0)\n",
        "            imstack_grid = np.concatenate((imstack_grid, imstack), axis=0)\n",
        "        except ValueError as e:\n",
        "            print(f\"Error processing image index {i}: {e}\")\n",
        "            continue  # Optionally log the error and skip this iteration\n",
        "\n",
        "    # Remove the initial placeholder row\n",
        "    coordinates = coordinates[1:]\n",
        "    coms = coms[1:]\n",
        "    imstack_grid = imstack_grid[1:]\n",
        "\n",
        "    return coms, len(coms)"
      ]
    },
    {
      "cell_type": "markdown",
      "metadata": {
        "id": "TDm_85ETrH1y"
      },
      "source": [
        "**Quality Function: Objective 1**"
      ]
    },
    {
      "cell_type": "markdown",
      "metadata": {
        "id": "57G24UmXl-BO"
      },
      "source": [
        "The Quality_count function is designed to evaluate the performance Laplacian of Gaussian method in atom detection based on a comparison between the number of atoms detected by the apply_log function and a pre-established number of atoms drived from materials lattice structure.\n",
        "\n"
      ]
    },
    {
      "cell_type": "markdown",
      "metadata": {
        "id": "PmTQw828p_4A"
      },
      "source": [
        "Define Oracle based on the material's unit cell size"
      ]
    },
    {
      "cell_type": "code",
      "execution_count": null,
      "metadata": {
        "id": "nnEwBHWsv7If"
      },
      "outputs": [],
      "source": [
        "def calculate_total_points(image, unit_cell_length, unit_cell_width, atoms_per_unit_cell):\n",
        "\n",
        "    # Get the dimensions of the cropped and normalized image\n",
        "    image_height, image_width = image.shape\n",
        "\n",
        "    # Calculate the image area\n",
        "    image_area = image_width * image_height\n",
        "\n",
        "    # Calculate the unit cell area\n",
        "    unit_cell_area = unit_cell_length * unit_cell_width\n",
        "\n",
        "    # Determine the number of unit cells in the image\n",
        "    number_of_unit_cells = image_area / unit_cell_area\n",
        "\n",
        "    # Multiply by the number of atoms per unit cell\n",
        "    total_points = (number_of_unit_cells * atoms_per_unit_cell)*1.1\n",
        "    total_points = math.floor(total_points)\n",
        "    return total_points"
      ]
    },
    {
      "cell_type": "code",
      "execution_count": null,
      "metadata": {
        "colab": {
          "base_uri": "https://localhost:8080/"
        },
        "id": "vVUzBw7OyLUy",
        "outputId": "a5df3f66-0949-4e01-e513-0ef05f35ed56"
      },
      "outputs": [],
      "source": [
        "unit_cell_length = 50\n",
        "unit_cell_width = 50\n",
        "atoms_per_unit_cell = 6\n",
        "Oracle = calculate_total_points(test_img, unit_cell_length, unit_cell_width, atoms_per_unit_cell)\n",
        "print(Oracle)"
      ]
    },
    {
      "cell_type": "code",
      "execution_count": null,
      "metadata": {
        "id": "N9QxvzUmAIZm"
      },
      "outputs": [],
      "source": [
        "# Oracle = 1100"
      ]
    },
    {
      "cell_type": "code",
      "execution_count": null,
      "metadata": {
        "id": "ggi7nD8XrH1y"
      },
      "outputs": [],
      "source": [
        "def Quality_count(params):\n",
        "    min_sigma, max_sigma, threshold, overlap = params\n",
        "    coms, log_count = apply_log_one(min_sigma, max_sigma, threshold, overlap)\n",
        "\n",
        "    difference = abs((log_count - Oracle)/Oracle)\n",
        "\n",
        "    return difference"
      ]
    },
    {
      "cell_type": "markdown",
      "metadata": {
        "id": "JBf1Z6B3rH1z"
      },
      "source": [
        "**Error Function: Objective 2**"
      ]
    },
    {
      "cell_type": "markdown",
      "metadata": {
        "id": "EfmcBs4zrH1z"
      },
      "source": [
        "Identifies false positives in atom detection by calculating the sum of distances between neighboring atoms and normalizing the result based on a threshold relative to lattice parameters."
      ]
    },
    {
      "cell_type": "code",
      "execution_count": null,
      "metadata": {
        "colab": {
          "base_uri": "https://localhost:8080/",
          "height": 698
        },
        "id": "_OxPiYQrnqOz",
        "outputId": "4f263cd6-ea2a-4645-9389-3432eab861ba"
      },
      "outputs": [],
      "source": [
        "coms = coordinates[0][:,:-1]\n",
        "\n",
        "# Use NearestNeighbors from scikit-learn to find the 3 nearest neighbors\n",
        "nbrs = NearestNeighbors(n_neighbors=4, algorithm='ball_tree').fit(coms)\n",
        "\n",
        "# Find the distances and indices of the 3 nearest neighbors for each atom\n",
        "distances, indices = nbrs.kneighbors(coms)\n",
        "\n",
        "# Exclude the first column (distance to the point itself)\n",
        "nearest_distances = distances[:, 1:]\n",
        "nearest_indices = indices[:, 1:]\n",
        "\n",
        "# Plot the atom coordinates\n",
        "fig, ax = plt.subplots(figsize=(8, 8))\n",
        "ax.imshow(test_img, cmap='gist_gray')\n",
        "ax.scatter(coms[:, 1], coms[:, 0], s=10, c='lime')\n",
        "\n",
        "# Randomly select a point within the defined area\n",
        "selected_point_index = random.choice(range(len(coms)))\n",
        "selected_point = coms[selected_point_index]\n",
        "\n",
        "# Highlight the selected point\n",
        "ax.scatter(selected_point[1], selected_point[0], s=100, c='red', zorder=5)\n",
        "\n",
        "# Draw lines to the four nearest neighbors and annotate them with the distances\n",
        "for i, neighbor_index in enumerate(nearest_indices[selected_point_index]):\n",
        "    neighbor_point = coms[neighbor_index]\n",
        "    line = ax.plot([selected_point[1], neighbor_point[1]], [selected_point[0], neighbor_point[0]], 'orange', linewidth=3, zorder=3)\n",
        "\n",
        "    # Get the middle of the line to place the text\n",
        "    mid_point = [(selected_point[1] + neighbor_point[1]) / 2, (selected_point[0] + neighbor_point[0]) / 2]\n",
        "\n",
        "    # Annotate the line with distance\n",
        "    ax.annotate(f\"{nearest_distances[selected_point_index, i]:.2f}\",\n",
        "                mid_point,\n",
        "                textcoords=\"offset points\",\n",
        "                xytext=(5,-5),\n",
        "                ha='center',\n",
        "                fontsize=9,\n",
        "                bbox=dict(boxstyle=\"round,pad=0.3\", edgecolor='orange', facecolor='yellow', alpha=0.5))\n",
        "\n",
        "ax.set_title('Nearest Neighbor Connections', fontsize=18, fontweight='bold')\n",
        "ax.set_xticks([])\n",
        "ax.set_yticks([])\n",
        "\n",
        "# Sum of the distances to the 3 nearest neighbors for the selected point\n",
        "sum_of_nearest_distances = np.sum(nearest_distances[selected_point_index])\n",
        "print(f\"Sum of distances to the nearest neighbors: {sum_of_nearest_distances:.2f}\")\n",
        "\n",
        "# Configure the tick parameters\n",
        "ax.invert_yaxis()\n",
        "plt.show()"
      ]
    },
    {
      "cell_type": "code",
      "execution_count": null,
      "metadata": {
        "colab": {
          "base_uri": "https://localhost:8080/"
        },
        "id": "o5sPQ4JcpdDl",
        "outputId": "eda7bf52-4d52-4d92-c818-e1bbf34f5454"
      },
      "outputs": [],
      "source": [
        "# lattice_param_limit = sum_of_nearest_distances+(sum_of_nearest_distances)*10/100\n",
        "lattice_param_limit = sum_of_nearest_distances\n",
        "lattice_param_limit"
      ]
    },
    {
      "cell_type": "code",
      "execution_count": null,
      "metadata": {
        "id": "iv-JQZfmnDeB"
      },
      "outputs": [],
      "source": [
        "def Error_count(params):\n",
        "    min_sigma, max_sigma, threshold, overlap = params\n",
        "\n",
        "\n",
        "    # Assume apply_log is defined elsewhere and returns coordinates and log_count\n",
        "    coms, log_count = apply_log_one(min_sigma, max_sigma, threshold, overlap)\n",
        "\n",
        "    # Safeguard for n_neighbors to not exceed number of samples\n",
        "    n_neighbors = min(len(coms), 4)  # Ensure n_neighbors does not exceed the number of samples in coms\n",
        "\n",
        "    # Calculate the sum of distances to the nearest neighbors for each point\n",
        "    if n_neighbors > 1:  # Proceed only if there are at least 2 points (1 neighbor besides itself)\n",
        "        nbrs = NearestNeighbors(n_neighbors=n_neighbors, algorithm='ball_tree').fit(coms)\n",
        "        distances, _ = nbrs.kneighbors(coms)\n",
        "        sum_of_distances = np.sum(distances[:, 1:], axis=1)  # Exclude the distance to itself (first column)\n",
        "    else:\n",
        "        sum_of_distances = np.array([0] * len(coms))  # If only 1 sample, the sum of distances is 0\n",
        "\n",
        "    # Count points with the sum of distances below a certain threshold\n",
        "    points_below_threshold = np.sum(sum_of_distances < lattice_param_limit)\n",
        "\n",
        "    normalized_points = points_below_threshold / Oracle  # Assuming Oracle_A is defined and non-zero\n",
        "\n",
        "\n",
        "    return normalized_points"
      ]
    },
    {
      "cell_type": "markdown",
      "metadata": {
        "id": "omhp1mpzrH1z"
      },
      "source": [
        "**Multi-Objective Optimization**"
      ]
    },
    {
      "cell_type": "markdown",
      "metadata": {
        "id": "WG03wOLjrH1z"
      },
      "source": [
        "The provided funcrions define and execute a multi-objective optimization problem using the **NSGA-II** algorithm. The main goal of this optimization is to minimize two objectives (Error_count, and Quality_count) by adjusting certain hyper-parameters (threshold, overlap)."
      ]
    },
    {
      "cell_type": "markdown",
      "metadata": {
        "id": "L0DYWPBoRZNA"
      },
      "source": [
        " - min_sigma=min_sigma,\n",
        " - max_sigma=max_sigma,\n",
        "\n",
        " - threshold=threshold,\n",
        " - overlap=overlap"
      ]
    },
    {
      "cell_type": "code",
      "execution_count": null,
      "metadata": {
        "id": "Cz59FFbVrH1z"
      },
      "outputs": [],
      "source": [
        "# Define your problem as a class inheriting from Problem\n",
        "class MyOptimizationProblem(Problem):\n",
        "    def __init__(self):\n",
        "        # Initialize the problem with 4 decision variables and 2 objectives\n",
        "        super(MyOptimizationProblem, self).__init__(4, 2)\n",
        "\n",
        "        self.types[:] = [Real(1, 20), Real(10, 40), Real(0.01, 0.1), Real(0.01, 1.0)]\n",
        "\n",
        "        self.directions[:] = [Problem.MINIMIZE, Problem.MINIMIZE]  # Assuming both objectives are to be minimized\n",
        "\n",
        "    def evaluate(self, solution):\n",
        "        #min_sigma, max_sigma, threshold, overlap = solution.variables\n",
        "        min_sigma, max_sigma, threshold, overlap = solution.variables\n",
        "\n",
        "        error = Error_count([min_sigma, max_sigma, threshold, overlap])\n",
        "        quality = Quality_count([min_sigma, max_sigma, threshold, overlap])\n",
        "\n",
        "        #Ensure the objectives are returned as a list or array of two values\n",
        "        solution.objectives[:] = [error, quality]"
      ]
    },
    {
      "cell_type": "code",
      "execution_count": null,
      "metadata": {
        "colab": {
          "base_uri": "https://localhost:8080/"
        },
        "id": "8Qd6uF1Xr1k7",
        "outputId": "d2373e6b-2aaf-4f72-ff36-2e7b20f34acc"
      },
      "outputs": [],
      "source": [
        "import time\n",
        "\n",
        "problem = MyOptimizationProblem()\n",
        "\n",
        "before = time.time()\n",
        "# Solve the problem using the NSGA-II algorithm\n",
        "algorithm = NSGAII(problem)\n",
        "\n",
        "algorithm.run(10)  # Adjust the number of iterations as needed\n",
        "\n",
        "# After the run, you can extract the Pareto-optimal solutions\n",
        "for solution in algorithm.result:\n",
        "    print(f\"Objectives: {solution.objectives}, Parameters: {solution.variables}\")\n",
        "\n",
        "after = time.time()\n",
        "print(after-before)"
      ]
    },
    {
      "cell_type": "code",
      "execution_count": null,
      "metadata": {
        "id": "QWwDnHCF9yKb"
      },
      "outputs": [],
      "source": [
        "# Print results\n",
        "solutions = [(solution.variables, solution.objectives) for solution in algorithm.result]"
      ]
    },
    {
      "cell_type": "markdown",
      "metadata": {
        "id": "8Ck9QLdNuQ0Z"
      },
      "source": [
        "Pareto front olutions"
      ]
    },
    {
      "cell_type": "code",
      "execution_count": null,
      "metadata": {
        "colab": {
          "base_uri": "https://localhost:8080/",
          "height": 811,
          "referenced_widgets": [
            "f19b5228178f41cfa7ea3353a08d5b6a",
            "b987da20282f46c997e03c010f119497",
            "608d9966f3774b44b03fb2d4c9c59e8f",
            "f9002bd236c64008a1e0943cfabc151c",
            "b037c6c154d741fea11cb99ce4cf5f66",
            "e1732e3dc68045b9aa308568ea65fd27",
            "071407006e0348488aa7530569db5b31"
          ]
        },
        "id": "Pqi-bRQI9e9y",
        "outputId": "d2c57b9f-e252-478e-d306-0a50c0bed3fa"
      },
      "outputs": [],
      "source": [
        "# e.g., solutions = algorithm.result\n",
        "objectives = [s[1] for s in solutions]\n",
        "obj1 = [o[0] for o in objectives]\n",
        "obj2 = [o[1] for o in objectives]\n",
        "\n",
        "# Create slider for selecting solution index\n",
        "slider = widgets.IntSlider(\n",
        "    value=0,\n",
        "    min=0,\n",
        "    max=len(solutions) - 1,\n",
        "    step=1,\n",
        "    description='Solution Index:',\n",
        "    continuous_update=False\n",
        ")\n",
        "\n",
        "# Output area for hyperparams & plot\n",
        "output = widgets.Output()\n",
        "\n",
        "def update_plot(change):\n",
        "    idx = change['new']\n",
        "    hp, objs = solutions[idx]\n",
        "\n",
        "    with output:\n",
        "        clear_output(wait=True)\n",
        "        # Display hyperparameters and objective values\n",
        "        print(f\"Hyperparameters: {hp}\")\n",
        "        print(f\"Objective 1: {objs[0]:.4f}\")\n",
        "        print(f\"Objective 2: {objs[1]:.4f}\")\n",
        "\n",
        "        # Plot all points and highlight the selected one\n",
        "        plt.figure(figsize=(5, 5), dpi=150)\n",
        "        plt.scatter(obj1, obj2, s=40, marker='o', c=\"blue\", alpha=0.5)\n",
        "        plt.scatter(obj1[idx], obj2[idx], s=100, marker='*', c=\"red\")\n",
        "        plt.title(f\"Solution #{idx}\", fontsize=14, fontweight=\"bold\")\n",
        "        plt.xlabel('Objective 1', fontsize=12, fontweight=\"bold\")\n",
        "        plt.ylabel('Objective 2', fontsize=12, fontweight=\"bold\")\n",
        "        plt.xlim(-0.1, 1.1)\n",
        "        plt.ylim(-0.1, 1.1)\n",
        "        plt.grid(True)\n",
        "        plt.gca().set_aspect('equal', 'box')\n",
        "        plt.show()\n",
        "\n",
        "# Link slider changes to update function\n",
        "slider.observe(update_plot, names='value')\n",
        "\n",
        "# Display interactive widget\n",
        "display(widgets.VBox([slider, output]))\n",
        "\n",
        "# Initial display\n",
        "update_plot({'new': 0})\n"
      ]
    },
    {
      "cell_type": "code",
      "execution_count": null,
      "metadata": {
        "colab": {
          "base_uri": "https://localhost:8080/"
        },
        "id": "FstuWwVm_SuM",
        "outputId": "d3ba1c75-5240-4575-e3bf-c373d2a93150"
      },
      "outputs": [],
      "source": [
        "# build lists of objectives and variables\n",
        "solutions = [(sol.variables, sol.objectives) for sol in algorithm.result]\n",
        "obj1 = np.array([o[1][0] for o in solutions])   # reward1\n",
        "obj2 = np.array([o[1][1] for o in solutions])   # reward2\n",
        "\n",
        "# 1) the solution with maximum reward1 (tie-break by minimum reward2)\n",
        "idx_max1_min2 = max(\n",
        "    range(len(solutions)),\n",
        "    key=lambda i: (obj1[i], -obj2[i])\n",
        ")\n",
        "\n",
        "# 2) the solution with maximum reward2 (tie-break by minimum reward1)\n",
        "idx_max2_min1 = max(\n",
        "    range(len(solutions)),\n",
        "    key=lambda i: (obj2[i], -obj1[i])\n",
        ")\n",
        "\n",
        "# unpack\n",
        "vars_max1, objs_max1 = solutions[idx_max1_min2]\n",
        "vars_max2, objs_max2 = solutions[idx_max2_min1]\n",
        "\n",
        "print(\"→ Maximize Reward1 & Minimize Reward2:\")\n",
        "print(f\"  Index: {idx_max1_min2}\")\n",
        "print(f\"  Hyperparams: {vars_max1}\")\n",
        "print(f\"  Objectives:  {objs_max1}\\n\")\n",
        "\n",
        "print(\"→ Maximize Reward2 & Minimize Reward1:\")\n",
        "print(f\"  Index: {idx_max2_min1}\")\n",
        "print(f\"  Hyperparams: {vars_max2}\")\n",
        "print(f\"  Objectives:  {objs_max2}\")\n",
        "\n",
        "vars_max1"
      ]
    },
    {
      "cell_type": "code",
      "execution_count": null,
      "metadata": {
        "id": "UrpwmFLW-ZUJ"
      },
      "outputs": [],
      "source": [
        "coms, _ = apply_log_one(*vars_max1)"
      ]
    },
    {
      "cell_type": "code",
      "execution_count": null,
      "metadata": {
        "colab": {
          "base_uri": "https://localhost:8080/",
          "height": 736
        },
        "id": "DI8dFQFa-jMX",
        "outputId": "35f09629-0148-4872-e7ee-0c6dd71d05f4"
      },
      "outputs": [],
      "source": [
        "# Plotting\n",
        "fig, ax = plt.subplots(1, 1, figsize=(8, 8))\n",
        "ax.imshow(test_img, cmap='gist_gray')\n",
        "\n",
        "# Scatter plot with filtered data\n",
        "imglab = ax.scatter(coms[:, 1], coms[:, 0], c=\"cyan\", s=20, cmap='coolwarm', edgecolor='k')\n",
        "plt.title('LoG* prediction' , fontsize = 18, fontweight = \"bold\")\n",
        "\n",
        "ax.set_xticks([])\n",
        "ax.set_yticks([])\n",
        "plt.show()"
      ]
    },
    {
      "cell_type": "code",
      "execution_count": null,
      "metadata": {
        "colab": {
          "base_uri": "https://localhost:8080/"
        },
        "id": "IpzpkW6vBv5p",
        "outputId": "8f00a666-3942-4b81-a3d2-a97032a78d41"
      },
      "outputs": [],
      "source": [
        "print(len(coms))"
      ]
    },
    {
      "cell_type": "code",
      "execution_count": null,
      "metadata": {
        "colab": {
          "base_uri": "https://localhost:8080/"
        },
        "id": "cCWdoikmR6gJ",
        "outputId": "cc96129a-f409-4c02-c78d-f56ec25e33c3"
      },
      "outputs": [],
      "source": [
        "print(len(coms) - len(blobs_m))"
      ]
    },
    {
      "cell_type": "code",
      "execution_count": null,
      "metadata": {
        "id": "L2lnwo8oSBti"
      },
      "outputs": [],
      "source": []
    },
    {
      "cell_type": "markdown",
      "metadata": {
        "id": "HrXWY4RTFRn6"
      },
      "source": [
        "**Refinement**"
      ]
    },
    {
      "cell_type": "code",
      "execution_count": null,
      "metadata": {
        "colab": {
          "base_uri": "https://localhost:8080/",
          "height": 414,
          "referenced_widgets": [
            "9942905287f84b3da33cab737fe8b14e",
            "ad4e66dc6e29486b8c8c85540c6cebab",
            "70b59f4c6b964ccb8e0f94da018654a6",
            "a29d2e1b402a492ea14ba1fc4807f8e6",
            "ec7f2e88d7474223b0ea05e07150e1c5",
            "496807f18aa349098316b8d68023e1a4",
            "b4ba87d9c7cd4e448d2a5db647d70b0b",
            "cbf4f1a3139548ce8acb1d512681947a",
            "8ff87857a995478dbc5dc76635e65e6c",
            "4ad4e7e02fbb43bd9c231f22d10da62e",
            "595f054c2cfc48179c14699186c290d7"
          ]
        },
        "id": "7EpnTTT0FTPX",
        "outputId": "abba77b1-f63d-4e48-9218-b98ab6f6be21"
      },
      "outputs": [],
      "source": [
        "# ------- Input ------\n",
        "atom_radius = 10  # in pixel\n",
        "# ----------------------\n",
        "\n",
        "image = test_img\n",
        "\n",
        "#atoms = atom_group['atoms'][()]\n",
        "atoms = coms\n",
        "image = image-image.min()\n",
        "\n",
        "#atom_radius = 2\n",
        "MaxInt = 0\n",
        "MinInt = 0\n",
        "maxDist = 10\n",
        "sym = pyTEMlib.atom_tools.atom_refine(np.array(image), atoms, atom_radius, max_int = 0, min_int = 0, max_dist = 2)\n",
        "refined_atoms = np.array(sym['atoms'])\n",
        "\n",
        "fig, ax = plt.subplots(1, 2, figsize=(8, 4), sharex=True, sharey=True)\n",
        "ax[0].imshow(image.T)\n",
        "ax[0].scatter(refined_atoms[:,0],refined_atoms[:,1],  s=10, alpha = 0.3, color = 'red')\n",
        "ax[0].set_title('refined atom postion')\n",
        "ax[1].imshow(image.T)\n",
        "ax[1].scatter(atoms[:, 0], atoms[:, 1], c='r', s=10, alpha = .3);\n",
        "ax[1].set_title('blobs on image');"
      ]
    }
  ],
  "metadata": {
    "colab": {
      "machine_shape": "hm",
      "provenance": [],
      "toc_visible": true
    },
    "kernelspec": {
      "display_name": "Python 3",
      "name": "python3"
    },
    "language_info": {
      "name": "python"
    },
    "widgets": {
      "application/vnd.jupyter.widget-state+json": {
        "02c8c1adfd7e4e0a8972a8b38557d172": {
          "model_module": "@jupyter-widgets/controls",
          "model_module_version": "1.5.0",
          "model_name": "DescriptionStyleModel",
          "state": {
            "_model_module": "@jupyter-widgets/controls",
            "_model_module_version": "1.5.0",
            "_model_name": "DescriptionStyleModel",
            "_view_count": null,
            "_view_module": "@jupyter-widgets/base",
            "_view_module_version": "1.2.0",
            "_view_name": "StyleView",
            "description_width": ""
          }
        },
        "064a20c5a0ed476e96cb807324914b39": {
          "model_module": "@jupyter-widgets/base",
          "model_module_version": "1.2.0",
          "model_name": "LayoutModel",
          "state": {
            "_model_module": "@jupyter-widgets/base",
            "_model_module_version": "1.2.0",
            "_model_name": "LayoutModel",
            "_view_count": null,
            "_view_module": "@jupyter-widgets/base",
            "_view_module_version": "1.2.0",
            "_view_name": "LayoutView",
            "align_content": null,
            "align_items": null,
            "align_self": null,
            "border": null,
            "bottom": null,
            "display": null,
            "flex": null,
            "flex_flow": null,
            "grid_area": null,
            "grid_auto_columns": null,
            "grid_auto_flow": null,
            "grid_auto_rows": null,
            "grid_column": null,
            "grid_gap": null,
            "grid_row": null,
            "grid_template_areas": null,
            "grid_template_columns": null,
            "grid_template_rows": null,
            "height": null,
            "justify_content": null,
            "justify_items": null,
            "left": null,
            "margin": null,
            "max_height": null,
            "max_width": null,
            "min_height": null,
            "min_width": null,
            "object_fit": null,
            "object_position": null,
            "order": null,
            "overflow": null,
            "overflow_x": null,
            "overflow_y": null,
            "padding": null,
            "right": null,
            "top": null,
            "visibility": null,
            "width": null
          }
        },
        "071407006e0348488aa7530569db5b31": {
          "model_module": "@jupyter-widgets/base",
          "model_module_version": "1.2.0",
          "model_name": "LayoutModel",
          "state": {
            "_model_module": "@jupyter-widgets/base",
            "_model_module_version": "1.2.0",
            "_model_name": "LayoutModel",
            "_view_count": null,
            "_view_module": "@jupyter-widgets/base",
            "_view_module_version": "1.2.0",
            "_view_name": "LayoutView",
            "align_content": null,
            "align_items": null,
            "align_self": null,
            "border": null,
            "bottom": null,
            "display": null,
            "flex": null,
            "flex_flow": null,
            "grid_area": null,
            "grid_auto_columns": null,
            "grid_auto_flow": null,
            "grid_auto_rows": null,
            "grid_column": null,
            "grid_gap": null,
            "grid_row": null,
            "grid_template_areas": null,
            "grid_template_columns": null,
            "grid_template_rows": null,
            "height": null,
            "justify_content": null,
            "justify_items": null,
            "left": null,
            "margin": null,
            "max_height": null,
            "max_width": null,
            "min_height": null,
            "min_width": null,
            "object_fit": null,
            "object_position": null,
            "order": null,
            "overflow": null,
            "overflow_x": null,
            "overflow_y": null,
            "padding": null,
            "right": null,
            "top": null,
            "visibility": null,
            "width": null
          }
        },
        "31372a9eeeeb4071b686f684f479ff86": {
          "model_module": "@jupyter-widgets/controls",
          "model_module_version": "1.5.0",
          "model_name": "HTMLModel",
          "state": {
            "_dom_classes": [],
            "_model_module": "@jupyter-widgets/controls",
            "_model_module_version": "1.5.0",
            "_model_name": "HTMLModel",
            "_view_count": null,
            "_view_module": "@jupyter-widgets/controls",
            "_view_module_version": "1.5.0",
            "_view_name": "HTMLView",
            "description": "",
            "description_tooltip": null,
            "layout": "IPY_MODEL_d2ee3c1494724002bbde1ede65567e65",
            "placeholder": "​",
            "style": "IPY_MODEL_02c8c1adfd7e4e0a8972a8b38557d172",
            "value": " 109/500 [00:02&lt;00:13, 29.32it/s]"
          }
        },
        "3556b1850cf34fa3818c08283c6fad55": {
          "model_module": "@jupyter-widgets/controls",
          "model_module_version": "1.5.0",
          "model_name": "HBoxModel",
          "state": {
            "_dom_classes": [],
            "_model_module": "@jupyter-widgets/controls",
            "_model_module_version": "1.5.0",
            "_model_name": "HBoxModel",
            "_view_count": null,
            "_view_module": "@jupyter-widgets/controls",
            "_view_module_version": "1.5.0",
            "_view_name": "HBoxView",
            "box_style": "",
            "children": [
              "IPY_MODEL_e60479596a4c42aa836a6880cfb1639d",
              "IPY_MODEL_7b453278a9354a45aa92a862ef1fe6d7",
              "IPY_MODEL_31372a9eeeeb4071b686f684f479ff86"
            ],
            "layout": "IPY_MODEL_064a20c5a0ed476e96cb807324914b39"
          }
        },
        "496807f18aa349098316b8d68023e1a4": {
          "model_module": "@jupyter-widgets/base",
          "model_module_version": "1.2.0",
          "model_name": "LayoutModel",
          "state": {
            "_model_module": "@jupyter-widgets/base",
            "_model_module_version": "1.2.0",
            "_model_name": "LayoutModel",
            "_view_count": null,
            "_view_module": "@jupyter-widgets/base",
            "_view_module_version": "1.2.0",
            "_view_name": "LayoutView",
            "align_content": null,
            "align_items": null,
            "align_self": null,
            "border": null,
            "bottom": null,
            "display": null,
            "flex": null,
            "flex_flow": null,
            "grid_area": null,
            "grid_auto_columns": null,
            "grid_auto_flow": null,
            "grid_auto_rows": null,
            "grid_column": null,
            "grid_gap": null,
            "grid_row": null,
            "grid_template_areas": null,
            "grid_template_columns": null,
            "grid_template_rows": null,
            "height": null,
            "justify_content": null,
            "justify_items": null,
            "left": null,
            "margin": null,
            "max_height": null,
            "max_width": null,
            "min_height": null,
            "min_width": null,
            "object_fit": null,
            "object_position": null,
            "order": null,
            "overflow": null,
            "overflow_x": null,
            "overflow_y": null,
            "padding": null,
            "right": null,
            "top": null,
            "visibility": null,
            "width": null
          }
        },
        "4ad4e7e02fbb43bd9c231f22d10da62e": {
          "model_module": "@jupyter-widgets/base",
          "model_module_version": "1.2.0",
          "model_name": "LayoutModel",
          "state": {
            "_model_module": "@jupyter-widgets/base",
            "_model_module_version": "1.2.0",
            "_model_name": "LayoutModel",
            "_view_count": null,
            "_view_module": "@jupyter-widgets/base",
            "_view_module_version": "1.2.0",
            "_view_name": "LayoutView",
            "align_content": null,
            "align_items": null,
            "align_self": null,
            "border": null,
            "bottom": null,
            "display": null,
            "flex": null,
            "flex_flow": null,
            "grid_area": null,
            "grid_auto_columns": null,
            "grid_auto_flow": null,
            "grid_auto_rows": null,
            "grid_column": null,
            "grid_gap": null,
            "grid_row": null,
            "grid_template_areas": null,
            "grid_template_columns": null,
            "grid_template_rows": null,
            "height": null,
            "justify_content": null,
            "justify_items": null,
            "left": null,
            "margin": null,
            "max_height": null,
            "max_width": null,
            "min_height": null,
            "min_width": null,
            "object_fit": null,
            "object_position": null,
            "order": null,
            "overflow": null,
            "overflow_x": null,
            "overflow_y": null,
            "padding": null,
            "right": null,
            "top": null,
            "visibility": null,
            "width": null
          }
        },
        "595f054c2cfc48179c14699186c290d7": {
          "model_module": "@jupyter-widgets/controls",
          "model_module_version": "1.5.0",
          "model_name": "DescriptionStyleModel",
          "state": {
            "_model_module": "@jupyter-widgets/controls",
            "_model_module_version": "1.5.0",
            "_model_name": "DescriptionStyleModel",
            "_view_count": null,
            "_view_module": "@jupyter-widgets/base",
            "_view_module_version": "1.2.0",
            "_view_name": "StyleView",
            "description_width": ""
          }
        },
        "608d9966f3774b44b03fb2d4c9c59e8f": {
          "model_module": "@jupyter-widgets/output",
          "model_module_version": "1.0.0",
          "model_name": "OutputModel",
          "state": {
            "_dom_classes": [],
            "_model_module": "@jupyter-widgets/output",
            "_model_module_version": "1.0.0",
            "_model_name": "OutputModel",
            "_view_count": null,
            "_view_module": "@jupyter-widgets/output",
            "_view_module_version": "1.0.0",
            "_view_name": "OutputView",
            "layout": "IPY_MODEL_071407006e0348488aa7530569db5b31",
            "msg_id": "",
            "outputs": [
              {
                "name": "stdout",
                "output_type": "stream",
                "text": [
                  "Hyperparameters: [2.033656173358353, 37.14839882223915, 0.023686504993980926, 0.258194986431092]\n",
                  "Objective 1: 0.0231\n",
                  "Objective 2: 0.2775\n"
                ]
              },
              {
                "data": {
                  "image/png": "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\n",
                  "text/plain": "<Figure size 750x750 with 1 Axes>"
                },
                "metadata": {},
                "output_type": "display_data"
              }
            ]
          }
        },
        "70b59f4c6b964ccb8e0f94da018654a6": {
          "model_module": "@jupyter-widgets/controls",
          "model_module_version": "1.5.0",
          "model_name": "FloatProgressModel",
          "state": {
            "_dom_classes": [],
            "_model_module": "@jupyter-widgets/controls",
            "_model_module_version": "1.5.0",
            "_model_name": "FloatProgressModel",
            "_view_count": null,
            "_view_module": "@jupyter-widgets/controls",
            "_view_module_version": "1.5.0",
            "_view_name": "ProgressView",
            "bar_style": "success",
            "description": "",
            "description_tooltip": null,
            "layout": "IPY_MODEL_cbf4f1a3139548ce8acb1d512681947a",
            "max": 607,
            "min": 0,
            "orientation": "horizontal",
            "style": "IPY_MODEL_8ff87857a995478dbc5dc76635e65e6c",
            "value": 607
          }
        },
        "7b453278a9354a45aa92a862ef1fe6d7": {
          "model_module": "@jupyter-widgets/controls",
          "model_module_version": "1.5.0",
          "model_name": "FloatProgressModel",
          "state": {
            "_dom_classes": [],
            "_model_module": "@jupyter-widgets/controls",
            "_model_module_version": "1.5.0",
            "_model_name": "FloatProgressModel",
            "_view_count": null,
            "_view_module": "@jupyter-widgets/controls",
            "_view_module_version": "1.5.0",
            "_view_name": "ProgressView",
            "bar_style": "danger",
            "description": "",
            "description_tooltip": null,
            "layout": "IPY_MODEL_f88c76bd1dd844c68fe5f3dcdb07a367",
            "max": 500,
            "min": 0,
            "orientation": "horizontal",
            "style": "IPY_MODEL_b52684cd9c734629ad9e50b79480edac",
            "value": 109
          }
        },
        "8ff87857a995478dbc5dc76635e65e6c": {
          "model_module": "@jupyter-widgets/controls",
          "model_module_version": "1.5.0",
          "model_name": "ProgressStyleModel",
          "state": {
            "_model_module": "@jupyter-widgets/controls",
            "_model_module_version": "1.5.0",
            "_model_name": "ProgressStyleModel",
            "_view_count": null,
            "_view_module": "@jupyter-widgets/base",
            "_view_module_version": "1.2.0",
            "_view_name": "StyleView",
            "bar_color": null,
            "description_width": ""
          }
        },
        "92daff7985aa4ee7992206c8ab91c0c1": {
          "model_module": "@jupyter-widgets/base",
          "model_module_version": "1.2.0",
          "model_name": "LayoutModel",
          "state": {
            "_model_module": "@jupyter-widgets/base",
            "_model_module_version": "1.2.0",
            "_model_name": "LayoutModel",
            "_view_count": null,
            "_view_module": "@jupyter-widgets/base",
            "_view_module_version": "1.2.0",
            "_view_name": "LayoutView",
            "align_content": null,
            "align_items": null,
            "align_self": null,
            "border": null,
            "bottom": null,
            "display": null,
            "flex": null,
            "flex_flow": null,
            "grid_area": null,
            "grid_auto_columns": null,
            "grid_auto_flow": null,
            "grid_auto_rows": null,
            "grid_column": null,
            "grid_gap": null,
            "grid_row": null,
            "grid_template_areas": null,
            "grid_template_columns": null,
            "grid_template_rows": null,
            "height": null,
            "justify_content": null,
            "justify_items": null,
            "left": null,
            "margin": null,
            "max_height": null,
            "max_width": null,
            "min_height": null,
            "min_width": null,
            "object_fit": null,
            "object_position": null,
            "order": null,
            "overflow": null,
            "overflow_x": null,
            "overflow_y": null,
            "padding": null,
            "right": null,
            "top": null,
            "visibility": null,
            "width": null
          }
        },
        "9942905287f84b3da33cab737fe8b14e": {
          "model_module": "@jupyter-widgets/controls",
          "model_module_version": "1.5.0",
          "model_name": "HBoxModel",
          "state": {
            "_dom_classes": [],
            "_model_module": "@jupyter-widgets/controls",
            "_model_module_version": "1.5.0",
            "_model_name": "HBoxModel",
            "_view_count": null,
            "_view_module": "@jupyter-widgets/controls",
            "_view_module_version": "1.5.0",
            "_view_name": "HBoxView",
            "box_style": "",
            "children": [
              "IPY_MODEL_ad4e66dc6e29486b8c8c85540c6cebab",
              "IPY_MODEL_70b59f4c6b964ccb8e0f94da018654a6",
              "IPY_MODEL_a29d2e1b402a492ea14ba1fc4807f8e6"
            ],
            "layout": "IPY_MODEL_ec7f2e88d7474223b0ea05e07150e1c5"
          }
        },
        "a29d2e1b402a492ea14ba1fc4807f8e6": {
          "model_module": "@jupyter-widgets/controls",
          "model_module_version": "1.5.0",
          "model_name": "HTMLModel",
          "state": {
            "_dom_classes": [],
            "_model_module": "@jupyter-widgets/controls",
            "_model_module_version": "1.5.0",
            "_model_name": "HTMLModel",
            "_view_count": null,
            "_view_module": "@jupyter-widgets/controls",
            "_view_module_version": "1.5.0",
            "_view_name": "HTMLView",
            "description": "",
            "description_tooltip": null,
            "layout": "IPY_MODEL_4ad4e7e02fbb43bd9c231f22d10da62e",
            "placeholder": "​",
            "style": "IPY_MODEL_595f054c2cfc48179c14699186c290d7",
            "value": " 607/607 [00:14&lt;00:00, 63.14it/s]"
          }
        },
        "ad4e66dc6e29486b8c8c85540c6cebab": {
          "model_module": "@jupyter-widgets/controls",
          "model_module_version": "1.5.0",
          "model_name": "HTMLModel",
          "state": {
            "_dom_classes": [],
            "_model_module": "@jupyter-widgets/controls",
            "_model_module_version": "1.5.0",
            "_model_name": "HTMLModel",
            "_view_count": null,
            "_view_module": "@jupyter-widgets/controls",
            "_view_module_version": "1.5.0",
            "_view_name": "HTMLView",
            "description": "",
            "description_tooltip": null,
            "layout": "IPY_MODEL_496807f18aa349098316b8d68023e1a4",
            "placeholder": "​",
            "style": "IPY_MODEL_b4ba87d9c7cd4e448d2a5db647d70b0b",
            "value": "100%"
          }
        },
        "b037c6c154d741fea11cb99ce4cf5f66": {
          "model_module": "@jupyter-widgets/base",
          "model_module_version": "1.2.0",
          "model_name": "LayoutModel",
          "state": {
            "_model_module": "@jupyter-widgets/base",
            "_model_module_version": "1.2.0",
            "_model_name": "LayoutModel",
            "_view_count": null,
            "_view_module": "@jupyter-widgets/base",
            "_view_module_version": "1.2.0",
            "_view_name": "LayoutView",
            "align_content": null,
            "align_items": null,
            "align_self": null,
            "border": null,
            "bottom": null,
            "display": null,
            "flex": null,
            "flex_flow": null,
            "grid_area": null,
            "grid_auto_columns": null,
            "grid_auto_flow": null,
            "grid_auto_rows": null,
            "grid_column": null,
            "grid_gap": null,
            "grid_row": null,
            "grid_template_areas": null,
            "grid_template_columns": null,
            "grid_template_rows": null,
            "height": null,
            "justify_content": null,
            "justify_items": null,
            "left": null,
            "margin": null,
            "max_height": null,
            "max_width": null,
            "min_height": null,
            "min_width": null,
            "object_fit": null,
            "object_position": null,
            "order": null,
            "overflow": null,
            "overflow_x": null,
            "overflow_y": null,
            "padding": null,
            "right": null,
            "top": null,
            "visibility": null,
            "width": null
          }
        },
        "b4ba87d9c7cd4e448d2a5db647d70b0b": {
          "model_module": "@jupyter-widgets/controls",
          "model_module_version": "1.5.0",
          "model_name": "DescriptionStyleModel",
          "state": {
            "_model_module": "@jupyter-widgets/controls",
            "_model_module_version": "1.5.0",
            "_model_name": "DescriptionStyleModel",
            "_view_count": null,
            "_view_module": "@jupyter-widgets/base",
            "_view_module_version": "1.2.0",
            "_view_name": "StyleView",
            "description_width": ""
          }
        },
        "b52684cd9c734629ad9e50b79480edac": {
          "model_module": "@jupyter-widgets/controls",
          "model_module_version": "1.5.0",
          "model_name": "ProgressStyleModel",
          "state": {
            "_model_module": "@jupyter-widgets/controls",
            "_model_module_version": "1.5.0",
            "_model_name": "ProgressStyleModel",
            "_view_count": null,
            "_view_module": "@jupyter-widgets/base",
            "_view_module_version": "1.2.0",
            "_view_name": "StyleView",
            "bar_color": null,
            "description_width": ""
          }
        },
        "b987da20282f46c997e03c010f119497": {
          "model_module": "@jupyter-widgets/controls",
          "model_module_version": "1.5.0",
          "model_name": "IntSliderModel",
          "state": {
            "_dom_classes": [],
            "_model_module": "@jupyter-widgets/controls",
            "_model_module_version": "1.5.0",
            "_model_name": "IntSliderModel",
            "_view_count": null,
            "_view_module": "@jupyter-widgets/controls",
            "_view_module_version": "1.5.0",
            "_view_name": "IntSliderView",
            "continuous_update": false,
            "description": "Solution Index:",
            "description_tooltip": null,
            "disabled": false,
            "layout": "IPY_MODEL_b037c6c154d741fea11cb99ce4cf5f66",
            "max": 99,
            "min": 0,
            "orientation": "horizontal",
            "readout": true,
            "readout_format": "d",
            "step": 1,
            "style": "IPY_MODEL_e1732e3dc68045b9aa308568ea65fd27",
            "value": 0
          }
        },
        "c9442892343447b8ad87bb100a9d37e4": {
          "model_module": "@jupyter-widgets/controls",
          "model_module_version": "1.5.0",
          "model_name": "DescriptionStyleModel",
          "state": {
            "_model_module": "@jupyter-widgets/controls",
            "_model_module_version": "1.5.0",
            "_model_name": "DescriptionStyleModel",
            "_view_count": null,
            "_view_module": "@jupyter-widgets/base",
            "_view_module_version": "1.2.0",
            "_view_name": "StyleView",
            "description_width": ""
          }
        },
        "cbf4f1a3139548ce8acb1d512681947a": {
          "model_module": "@jupyter-widgets/base",
          "model_module_version": "1.2.0",
          "model_name": "LayoutModel",
          "state": {
            "_model_module": "@jupyter-widgets/base",
            "_model_module_version": "1.2.0",
            "_model_name": "LayoutModel",
            "_view_count": null,
            "_view_module": "@jupyter-widgets/base",
            "_view_module_version": "1.2.0",
            "_view_name": "LayoutView",
            "align_content": null,
            "align_items": null,
            "align_self": null,
            "border": null,
            "bottom": null,
            "display": null,
            "flex": null,
            "flex_flow": null,
            "grid_area": null,
            "grid_auto_columns": null,
            "grid_auto_flow": null,
            "grid_auto_rows": null,
            "grid_column": null,
            "grid_gap": null,
            "grid_row": null,
            "grid_template_areas": null,
            "grid_template_columns": null,
            "grid_template_rows": null,
            "height": null,
            "justify_content": null,
            "justify_items": null,
            "left": null,
            "margin": null,
            "max_height": null,
            "max_width": null,
            "min_height": null,
            "min_width": null,
            "object_fit": null,
            "object_position": null,
            "order": null,
            "overflow": null,
            "overflow_x": null,
            "overflow_y": null,
            "padding": null,
            "right": null,
            "top": null,
            "visibility": null,
            "width": null
          }
        },
        "d2ee3c1494724002bbde1ede65567e65": {
          "model_module": "@jupyter-widgets/base",
          "model_module_version": "1.2.0",
          "model_name": "LayoutModel",
          "state": {
            "_model_module": "@jupyter-widgets/base",
            "_model_module_version": "1.2.0",
            "_model_name": "LayoutModel",
            "_view_count": null,
            "_view_module": "@jupyter-widgets/base",
            "_view_module_version": "1.2.0",
            "_view_name": "LayoutView",
            "align_content": null,
            "align_items": null,
            "align_self": null,
            "border": null,
            "bottom": null,
            "display": null,
            "flex": null,
            "flex_flow": null,
            "grid_area": null,
            "grid_auto_columns": null,
            "grid_auto_flow": null,
            "grid_auto_rows": null,
            "grid_column": null,
            "grid_gap": null,
            "grid_row": null,
            "grid_template_areas": null,
            "grid_template_columns": null,
            "grid_template_rows": null,
            "height": null,
            "justify_content": null,
            "justify_items": null,
            "left": null,
            "margin": null,
            "max_height": null,
            "max_width": null,
            "min_height": null,
            "min_width": null,
            "object_fit": null,
            "object_position": null,
            "order": null,
            "overflow": null,
            "overflow_x": null,
            "overflow_y": null,
            "padding": null,
            "right": null,
            "top": null,
            "visibility": null,
            "width": null
          }
        },
        "e1732e3dc68045b9aa308568ea65fd27": {
          "model_module": "@jupyter-widgets/controls",
          "model_module_version": "1.5.0",
          "model_name": "SliderStyleModel",
          "state": {
            "_model_module": "@jupyter-widgets/controls",
            "_model_module_version": "1.5.0",
            "_model_name": "SliderStyleModel",
            "_view_count": null,
            "_view_module": "@jupyter-widgets/base",
            "_view_module_version": "1.2.0",
            "_view_name": "StyleView",
            "description_width": "",
            "handle_color": null
          }
        },
        "e60479596a4c42aa836a6880cfb1639d": {
          "model_module": "@jupyter-widgets/controls",
          "model_module_version": "1.5.0",
          "model_name": "HTMLModel",
          "state": {
            "_dom_classes": [],
            "_model_module": "@jupyter-widgets/controls",
            "_model_module_version": "1.5.0",
            "_model_name": "HTMLModel",
            "_view_count": null,
            "_view_module": "@jupyter-widgets/controls",
            "_view_module_version": "1.5.0",
            "_view_name": "HTMLView",
            "description": "",
            "description_tooltip": null,
            "layout": "IPY_MODEL_92daff7985aa4ee7992206c8ab91c0c1",
            "placeholder": "​",
            "style": "IPY_MODEL_c9442892343447b8ad87bb100a9d37e4",
            "value": " 22%"
          }
        },
        "ec7f2e88d7474223b0ea05e07150e1c5": {
          "model_module": "@jupyter-widgets/base",
          "model_module_version": "1.2.0",
          "model_name": "LayoutModel",
          "state": {
            "_model_module": "@jupyter-widgets/base",
            "_model_module_version": "1.2.0",
            "_model_name": "LayoutModel",
            "_view_count": null,
            "_view_module": "@jupyter-widgets/base",
            "_view_module_version": "1.2.0",
            "_view_name": "LayoutView",
            "align_content": null,
            "align_items": null,
            "align_self": null,
            "border": null,
            "bottom": null,
            "display": null,
            "flex": null,
            "flex_flow": null,
            "grid_area": null,
            "grid_auto_columns": null,
            "grid_auto_flow": null,
            "grid_auto_rows": null,
            "grid_column": null,
            "grid_gap": null,
            "grid_row": null,
            "grid_template_areas": null,
            "grid_template_columns": null,
            "grid_template_rows": null,
            "height": null,
            "justify_content": null,
            "justify_items": null,
            "left": null,
            "margin": null,
            "max_height": null,
            "max_width": null,
            "min_height": null,
            "min_width": null,
            "object_fit": null,
            "object_position": null,
            "order": null,
            "overflow": null,
            "overflow_x": null,
            "overflow_y": null,
            "padding": null,
            "right": null,
            "top": null,
            "visibility": null,
            "width": null
          }
        },
        "f19b5228178f41cfa7ea3353a08d5b6a": {
          "model_module": "@jupyter-widgets/controls",
          "model_module_version": "1.5.0",
          "model_name": "VBoxModel",
          "state": {
            "_dom_classes": [],
            "_model_module": "@jupyter-widgets/controls",
            "_model_module_version": "1.5.0",
            "_model_name": "VBoxModel",
            "_view_count": null,
            "_view_module": "@jupyter-widgets/controls",
            "_view_module_version": "1.5.0",
            "_view_name": "VBoxView",
            "box_style": "",
            "children": [
              "IPY_MODEL_b987da20282f46c997e03c010f119497",
              "IPY_MODEL_608d9966f3774b44b03fb2d4c9c59e8f"
            ],
            "layout": "IPY_MODEL_f9002bd236c64008a1e0943cfabc151c"
          }
        },
        "f88c76bd1dd844c68fe5f3dcdb07a367": {
          "model_module": "@jupyter-widgets/base",
          "model_module_version": "1.2.0",
          "model_name": "LayoutModel",
          "state": {
            "_model_module": "@jupyter-widgets/base",
            "_model_module_version": "1.2.0",
            "_model_name": "LayoutModel",
            "_view_count": null,
            "_view_module": "@jupyter-widgets/base",
            "_view_module_version": "1.2.0",
            "_view_name": "LayoutView",
            "align_content": null,
            "align_items": null,
            "align_self": null,
            "border": null,
            "bottom": null,
            "display": null,
            "flex": null,
            "flex_flow": null,
            "grid_area": null,
            "grid_auto_columns": null,
            "grid_auto_flow": null,
            "grid_auto_rows": null,
            "grid_column": null,
            "grid_gap": null,
            "grid_row": null,
            "grid_template_areas": null,
            "grid_template_columns": null,
            "grid_template_rows": null,
            "height": null,
            "justify_content": null,
            "justify_items": null,
            "left": null,
            "margin": null,
            "max_height": null,
            "max_width": null,
            "min_height": null,
            "min_width": null,
            "object_fit": null,
            "object_position": null,
            "order": null,
            "overflow": null,
            "overflow_x": null,
            "overflow_y": null,
            "padding": null,
            "right": null,
            "top": null,
            "visibility": null,
            "width": null
          }
        },
        "f9002bd236c64008a1e0943cfabc151c": {
          "model_module": "@jupyter-widgets/base",
          "model_module_version": "1.2.0",
          "model_name": "LayoutModel",
          "state": {
            "_model_module": "@jupyter-widgets/base",
            "_model_module_version": "1.2.0",
            "_model_name": "LayoutModel",
            "_view_count": null,
            "_view_module": "@jupyter-widgets/base",
            "_view_module_version": "1.2.0",
            "_view_name": "LayoutView",
            "align_content": null,
            "align_items": null,
            "align_self": null,
            "border": null,
            "bottom": null,
            "display": null,
            "flex": null,
            "flex_flow": null,
            "grid_area": null,
            "grid_auto_columns": null,
            "grid_auto_flow": null,
            "grid_auto_rows": null,
            "grid_column": null,
            "grid_gap": null,
            "grid_row": null,
            "grid_template_areas": null,
            "grid_template_columns": null,
            "grid_template_rows": null,
            "height": null,
            "justify_content": null,
            "justify_items": null,
            "left": null,
            "margin": null,
            "max_height": null,
            "max_width": null,
            "min_height": null,
            "min_width": null,
            "object_fit": null,
            "object_position": null,
            "order": null,
            "overflow": null,
            "overflow_x": null,
            "overflow_y": null,
            "padding": null,
            "right": null,
            "top": null,
            "visibility": null,
            "width": null
          }
        }
      }
    }
  },
  "nbformat": 4,
  "nbformat_minor": 0
}
